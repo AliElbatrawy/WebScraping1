{
 "cells": [
  {
   "cell_type": "code",
   "execution_count": 1,
   "metadata": {},
   "outputs": [],
   "source": [
    "from bs4 import BeautifulSoup\n",
    "import requests\n",
    "import pandas as pd\n"
   ]
  },
  {
   "cell_type": "code",
   "execution_count": 2,
   "metadata": {},
   "outputs": [],
   "source": [
    "website = 'https://2b.com.eg/ar/computers/laptops.html?laptop_category=1061'"
   ]
  },
  {
   "cell_type": "code",
   "execution_count": 3,
   "metadata": {},
   "outputs": [],
   "source": [
    "response = requests.get(website)"
   ]
  },
  {
   "cell_type": "code",
   "execution_count": 4,
   "metadata": {},
   "outputs": [
    {
     "data": {
      "text/plain": [
       "200"
      ]
     },
     "execution_count": 4,
     "metadata": {},
     "output_type": "execute_result"
    }
   ],
   "source": [
    "response.status_code"
   ]
  },
  {
   "cell_type": "code",
   "execution_count": 5,
   "metadata": {},
   "outputs": [],
   "source": [
    "soup = BeautifulSoup(response.content,'html.parser')"
   ]
  },
  {
   "cell_type": "code",
   "execution_count": 6,
   "metadata": {},
   "outputs": [],
   "source": [
    "results = soup.find('div' ,{'class' : 'products wrapper grid columns4 products-grid'}).find_all('li') # type: ignore"
   ]
  },
  {
   "cell_type": "markdown",
   "metadata": {},
   "source": [
    "### name"
   ]
  },
  {
   "cell_type": "code",
   "execution_count": 1,
   "metadata": {},
   "outputs": [],
   "source": [
    "#results.find('strong' , {'class' : 'product name product-item-name'}).find('a').get_text().strip()"
   ]
  },
  {
   "cell_type": "markdown",
   "metadata": {},
   "source": [
    "### price"
   ]
  },
  {
   "cell_type": "code",
   "execution_count": null,
   "metadata": {},
   "outputs": [
    {
     "data": {
      "text/plain": [
       "'22,999.00 جنيه\\u200f'"
      ]
     },
     "execution_count": 98,
     "metadata": {},
     "output_type": "execute_result"
    }
   ],
   "source": [
    "#results.find('div' , {'class' : 'price-box price-final_price'}).find('span' , {'class' : 'special-price'}).find('span' , {'class' : 'price-container price-final_price tax weee'}).find('span', {'class': 'price'}).get_text()"
   ]
  },
  {
   "cell_type": "markdown",
   "metadata": {},
   "source": [
    "### Links"
   ]
  },
  {
   "cell_type": "code",
   "execution_count": 19,
   "metadata": {},
   "outputs": [
    {
     "data": {
      "text/plain": [
       "'https://2b.com.eg/ar/msi-gf63-thin-10sc-808xeg-intelr-coretm-i5-10500h-8gb-1tb-256gb-ssd-nvidiar-geforcer-gtxr-1650-4gb-15-6-fhd-black.html'"
      ]
     },
     "execution_count": 19,
     "metadata": {},
     "output_type": "execute_result"
    }
   ],
   "source": [
    "#results[0].find('strong' , {'class' : 'product name product-item-name'}).find('a')['href']"
   ]
  },
  {
   "cell_type": "markdown",
   "metadata": {},
   "source": [
    "### The for loop"
   ]
  },
  {
   "cell_type": "code",
   "execution_count": 7,
   "metadata": {},
   "outputs": [],
   "source": [
    "link = []\n",
    "price = []\n",
    "name = []\n",
    "for result in results :\n",
    "    try :\n",
    "        name.append(result.find('strong' , {'class' : 'product name product-item-name'}).find('a').get_text().strip())\n",
    "    except:\n",
    "        name.append('n/a')\n",
    "\n",
    "    try:\n",
    "        price.append(result.find('div' , {'class' : 'price-box price-final_price'}).find('span' , {'class' : 'special-price'}).find('span' , {'class' : 'price-container price-final_price tax weee'}).find('span', {'class': 'price'}).get_text())\n",
    "    except:\n",
    "        price.append('n/a')\n",
    "    \n",
    "    try :\n",
    "        link.append(result.find('strong' , {'class' : 'product name product-item-name'}).find('a')['href'])\n",
    "    except:\n",
    "        link.append('n/a')"
   ]
  },
  {
   "cell_type": "code",
   "execution_count": 8,
   "metadata": {},
   "outputs": [],
   "source": [
    "phones = pd.DataFrame({\"Name\" : name , \"Price\" : price , \"Link\" : link})"
   ]
  },
  {
   "cell_type": "code",
   "execution_count": 9,
   "metadata": {},
   "outputs": [
    {
     "data": {
      "text/html": [
       "<div>\n",
       "<style scoped>\n",
       "    .dataframe tbody tr th:only-of-type {\n",
       "        vertical-align: middle;\n",
       "    }\n",
       "\n",
       "    .dataframe tbody tr th {\n",
       "        vertical-align: top;\n",
       "    }\n",
       "\n",
       "    .dataframe thead th {\n",
       "        text-align: right;\n",
       "    }\n",
       "</style>\n",
       "<table border=\"1\" class=\"dataframe\">\n",
       "  <thead>\n",
       "    <tr style=\"text-align: right;\">\n",
       "      <th></th>\n",
       "      <th>Name</th>\n",
       "      <th>Price</th>\n",
       "      <th>Link</th>\n",
       "    </tr>\n",
       "  </thead>\n",
       "  <tbody>\n",
       "    <tr>\n",
       "      <th>0</th>\n",
       "      <td>ام اس اي GF63 Thin 10SC-808XEG - انتل® كور™ I5...</td>\n",
       "      <td>22,999.00 جنيه‏</td>\n",
       "      <td>https://2b.com.eg/ar/msi-gf63-thin-10sc-808xeg...</td>\n",
       "    </tr>\n",
       "    <tr>\n",
       "      <th>1</th>\n",
       "      <td>ديل G5-5500 - انتل® كور™ i7 -10750H - رامات 16...</td>\n",
       "      <td>33,499.00 جنيه‏</td>\n",
       "      <td>https://2b.com.eg/ar/dell-g5-5500-intelrcoretm...</td>\n",
       "    </tr>\n",
       "    <tr>\n",
       "      <th>2</th>\n",
       "      <td>اسوس ROG Strix G15 G513RM-HF007W - معالج AMD R...</td>\n",
       "      <td>49,499.00 جنيه‏</td>\n",
       "      <td>https://2b.com.eg/ar/asus-rog-strix-g15-g513rm...</td>\n",
       "    </tr>\n",
       "    <tr>\n",
       "      <th>3</th>\n",
       "      <td>لينوفو جيمينج 3 - معالج AMD Ryzen™ 5 5600H - ر...</td>\n",
       "      <td>29,499.00 جنيه‏</td>\n",
       "      <td>https://2b.com.eg/ar/lenovo-gaming-3-amd-ryzen...</td>\n",
       "    </tr>\n",
       "    <tr>\n",
       "      <th>4</th>\n",
       "      <td>لينوفو جيمينج 3 16IAH7 - انتل® كور™ i7-12650H ...</td>\n",
       "      <td>47,699.00 جنيه‏</td>\n",
       "      <td>https://2b.com.eg/ar/lenovo-gaming-3-16iah7-in...</td>\n",
       "    </tr>\n",
       "    <tr>\n",
       "      <th>5</th>\n",
       "      <td>ام اس اي GF63 - انتل® كور™ i7-11800H - رامات 1...</td>\n",
       "      <td>33,499.00 جنيه‏</td>\n",
       "      <td>https://2b.com.eg/ar/msi-gf63-intelr-coretm-i7...</td>\n",
       "    </tr>\n",
       "    <tr>\n",
       "      <th>6</th>\n",
       "      <td>ام اس اي Pulse GL66 - انتل® كور™ i7-12700H - ر...</td>\n",
       "      <td>57,999.00 جنيه‏</td>\n",
       "      <td>https://2b.com.eg/ar/msi-pulse-gl66-intelr-cor...</td>\n",
       "    </tr>\n",
       "    <tr>\n",
       "      <th>7</th>\n",
       "      <td>ام اس اي Thin10SC-090XEG - كور® انتل™i7-10750H...</td>\n",
       "      <td>24,499.00 جنيه‏</td>\n",
       "      <td>https://2b.com.eg/ar/msi-gf63-thin10sc-090xeg-...</td>\n",
       "    </tr>\n",
       "    <tr>\n",
       "      <th>8</th>\n",
       "      <td>اتش بي Victus 16-d0030ne - انتل® كور™ i7-11800...</td>\n",
       "      <td>43,499.00 جنيه‏</td>\n",
       "      <td>https://2b.com.eg/ar/hp-victus-16-d0030ne-inte...</td>\n",
       "    </tr>\n",
       "    <tr>\n",
       "      <th>9</th>\n",
       "      <td>اتش بي Victus جيمنج 16-d10032ne - انتل® كور™ i...</td>\n",
       "      <td>44,999.00 جنيه‏</td>\n",
       "      <td>https://2b.com.eg/ar/hp-victus-gaming-16-d1003...</td>\n",
       "    </tr>\n",
       "    <tr>\n",
       "      <th>10</th>\n",
       "      <td>اتش بي Victus 16-d0006ne - انتل® كور™ i7-11800...</td>\n",
       "      <td>45,999.00 جنيه‏</td>\n",
       "      <td>https://2b.com.eg/ar/hp-victus-16-d0006ne-inte...</td>\n",
       "    </tr>\n",
       "    <tr>\n",
       "      <th>11</th>\n",
       "      <td>لينوفو ايديا باد جيمنج 3 15ACH6 - معالج AMD Ry...</td>\n",
       "      <td>39,999.00 جنيه‏</td>\n",
       "      <td>https://2b.com.eg/ar/lenovo-ideapad-gaming-3-1...</td>\n",
       "    </tr>\n",
       "    <tr>\n",
       "      <th>12</th>\n",
       "      <td>لينوفو ايديا باد 1 15IAU7 - انتل® كور™ i7-1255...</td>\n",
       "      <td>24,499.00 جنيه‏</td>\n",
       "      <td>https://2b.com.eg/ar/lenovo-ideapad-1-15iau7-i...</td>\n",
       "    </tr>\n",
       "    <tr>\n",
       "      <th>13</th>\n",
       "      <td>اتش بي بافليون جيمنج 15-dk2112ne - انتل® كور™ ...</td>\n",
       "      <td>28,499.00 جنيه‏</td>\n",
       "      <td>https://2b.com.eg/ar/hp-pavilion-gaming-15-dk2...</td>\n",
       "    </tr>\n",
       "    <tr>\n",
       "      <th>14</th>\n",
       "      <td>اتش بي Victus 16-d0007ne - انتل® كور™ i7-11800...</td>\n",
       "      <td>45,999.00 جنيه‏</td>\n",
       "      <td>https://2b.com.eg/ar/hp-victus-16-d0007ne-inte...</td>\n",
       "    </tr>\n",
       "    <tr>\n",
       "      <th>15</th>\n",
       "      <td>ديل انسبيرون 5511 G15 - انتل® كور™ i7-11800H -...</td>\n",
       "      <td>42,999.00 جنيه‏</td>\n",
       "      <td>https://2b.com.eg/ar/dell-inspiron-5511-g15-in...</td>\n",
       "    </tr>\n",
       "    <tr>\n",
       "      <th>16</th>\n",
       "      <td>لينوفو جيمينج 3 15IAH7 - انتل® كور™ i7-12650H ...</td>\n",
       "      <td>39,799.00 جنيه‏</td>\n",
       "      <td>https://2b.com.eg/ar/lenovo-gaming-3-15iah7-in...</td>\n",
       "    </tr>\n",
       "    <tr>\n",
       "      <th>17</th>\n",
       "      <td>ام اس اي Vector GP76 - انتل® كور™ i7-12700H - ...</td>\n",
       "      <td>77,999.00 جنيه‏</td>\n",
       "      <td>https://2b.com.eg/ar/msi-vector-gp76-intelr-co...</td>\n",
       "    </tr>\n",
       "    <tr>\n",
       "      <th>18</th>\n",
       "      <td>اسوس TUF Gaming FX517ZE-HN050W - انتل® كور™ i7...</td>\n",
       "      <td>39,999.00 جنيه‏</td>\n",
       "      <td>https://2b.com.eg/ar/asus-tuf-gaming-fx517ze-h...</td>\n",
       "    </tr>\n",
       "    <tr>\n",
       "      <th>19</th>\n",
       "      <td>اسوس TUF Gaming FX516PE-HN019W - انتل® كور™ i7...</td>\n",
       "      <td>35,999.00 جنيه‏</td>\n",
       "      <td>https://2b.com.eg/ar/asus-tuf-gaming-fx516pe-h...</td>\n",
       "    </tr>\n",
       "    <tr>\n",
       "      <th>20</th>\n",
       "      <td>لينوفو جيمنج 3 - انتل® كور™ i5-12500H - رامات ...</td>\n",
       "      <td>32,999.00 جنيه‏</td>\n",
       "      <td>https://2b.com.eg/ar/lenovo-gaming-3-intelr-co...</td>\n",
       "    </tr>\n",
       "    <tr>\n",
       "      <th>21</th>\n",
       "      <td>اتش بي Victus 16-d0008ne - انتل® كور™ i7-11800...</td>\n",
       "      <td>45,999.00 جنيه‏</td>\n",
       "      <td>https://2b.com.eg/ar/hp-victus-16-d0008ne-inte...</td>\n",
       "    </tr>\n",
       "    <tr>\n",
       "      <th>22</th>\n",
       "      <td>اتش بي Victus 16-e0002ne - معالج AMD Ryzen™ 7-...</td>\n",
       "      <td>36,999.00 جنيه‏</td>\n",
       "      <td>https://2b.com.eg/ar/hp-victus-16-e0002ne-amd-...</td>\n",
       "    </tr>\n",
       "    <tr>\n",
       "      <th>23</th>\n",
       "      <td>اتش بي Victus 15-fa0087ne - انتل® كور™ i5-1250...</td>\n",
       "      <td>31,999.00 جنيه‏</td>\n",
       "      <td>https://2b.com.eg/ar/hp-victus-15-fa0087ne-int...</td>\n",
       "    </tr>\n",
       "    <tr>\n",
       "      <th>24</th>\n",
       "      <td>اتش بي Victus 15-fa0088ne - انتل® كور™ i5-1250...</td>\n",
       "      <td>31,999.00 جنيه‏</td>\n",
       "      <td>https://2b.com.eg/ar/hp-victus-15-fa0088ne-int...</td>\n",
       "    </tr>\n",
       "    <tr>\n",
       "      <th>25</th>\n",
       "      <td>اتش بي Victus 15-fa0089ne - انتل® كور™ i5-1250...</td>\n",
       "      <td>31,999.00 جنيه‏</td>\n",
       "      <td>https://2b.com.eg/ar/hp-victus-15-fa0089ne-int...</td>\n",
       "    </tr>\n",
       "    <tr>\n",
       "      <th>26</th>\n",
       "      <td>اتش بي Victus 15-fb0031ne - معالج AMD Ryzen™ 7...</td>\n",
       "      <td>37,999.00 جنيه‏</td>\n",
       "      <td>https://2b.com.eg/ar/hp-victus-15-fb0031ne-amd...</td>\n",
       "    </tr>\n",
       "    <tr>\n",
       "      <th>27</th>\n",
       "      <td>اتش بي Victus 15-fb0032ne - معالج AMD Ryzen™ 7...</td>\n",
       "      <td>35,999.00 جنيه‏</td>\n",
       "      <td>https://2b.com.eg/ar/hp-victus-15-fb0032ne-amd...</td>\n",
       "    </tr>\n",
       "    <tr>\n",
       "      <th>28</th>\n",
       "      <td>اتش بي Victus 15-fb0033ne - معالج AMD Ryzen™ 7...</td>\n",
       "      <td>35,999.00 جنيه‏</td>\n",
       "      <td>https://2b.com.eg/ar/hp-victus-15-fb0033ne-amd...</td>\n",
       "    </tr>\n",
       "    <tr>\n",
       "      <th>29</th>\n",
       "      <td>اتش بي Victus 15-fb0034ne - معالج AMD Ryzen™ 7...</td>\n",
       "      <td>34,499.00 جنيه‏</td>\n",
       "      <td>https://2b.com.eg/ar/hp-victus-15-fb0034ne-amd...</td>\n",
       "    </tr>\n",
       "    <tr>\n",
       "      <th>30</th>\n",
       "      <td>اتش بي Victus 15-fb0035ne - معالج AMD Ryzen™ 5...</td>\n",
       "      <td>31,999.00 جنيه‏</td>\n",
       "      <td>https://2b.com.eg/ar/hp-victus-15-fb0035ne-amd...</td>\n",
       "    </tr>\n",
       "    <tr>\n",
       "      <th>31</th>\n",
       "      <td>اتش بي Victus 15-fb0036ne - معالج AMD Ryzen™ 5...</td>\n",
       "      <td>30,499.00 جنيه‏</td>\n",
       "      <td>https://2b.com.eg/ar/hp-victus-15-fb0036ne-amd...</td>\n",
       "    </tr>\n",
       "    <tr>\n",
       "      <th>32</th>\n",
       "      <td>اتش بي Victus 15-fb0037ne - معالج AMD Ryzen™ 5...</td>\n",
       "      <td>30,499.00 جنيه‏</td>\n",
       "      <td>https://2b.com.eg/ar/hp-victus-15-fb0037ne-amd...</td>\n",
       "    </tr>\n",
       "    <tr>\n",
       "      <th>33</th>\n",
       "      <td>اتش بي Victus 16-d1058ne - انتل® كور™i7 12700H...</td>\n",
       "      <td>49,999.00 جنيه‏</td>\n",
       "      <td>https://2b.com.eg/ar/hp-victus-16-d1058ne-inte...</td>\n",
       "    </tr>\n",
       "  </tbody>\n",
       "</table>\n",
       "</div>"
      ],
      "text/plain": [
       "                                                 Name            Price  \\\n",
       "0   ام اس اي GF63 Thin 10SC-808XEG - انتل® كور™ I5...  22,999.00 جنيه‏   \n",
       "1   ديل G5-5500 - انتل® كور™ i7 -10750H - رامات 16...  33,499.00 جنيه‏   \n",
       "2   اسوس ROG Strix G15 G513RM-HF007W - معالج AMD R...  49,499.00 جنيه‏   \n",
       "3   لينوفو جيمينج 3 - معالج AMD Ryzen™ 5 5600H - ر...  29,499.00 جنيه‏   \n",
       "4   لينوفو جيمينج 3 16IAH7 - انتل® كور™ i7-12650H ...  47,699.00 جنيه‏   \n",
       "5   ام اس اي GF63 - انتل® كور™ i7-11800H - رامات 1...  33,499.00 جنيه‏   \n",
       "6   ام اس اي Pulse GL66 - انتل® كور™ i7-12700H - ر...  57,999.00 جنيه‏   \n",
       "7   ام اس اي Thin10SC-090XEG - كور® انتل™i7-10750H...  24,499.00 جنيه‏   \n",
       "8   اتش بي Victus 16-d0030ne - انتل® كور™ i7-11800...  43,499.00 جنيه‏   \n",
       "9   اتش بي Victus جيمنج 16-d10032ne - انتل® كور™ i...  44,999.00 جنيه‏   \n",
       "10  اتش بي Victus 16-d0006ne - انتل® كور™ i7-11800...  45,999.00 جنيه‏   \n",
       "11  لينوفو ايديا باد جيمنج 3 15ACH6 - معالج AMD Ry...  39,999.00 جنيه‏   \n",
       "12  لينوفو ايديا باد 1 15IAU7 - انتل® كور™ i7-1255...  24,499.00 جنيه‏   \n",
       "13  اتش بي بافليون جيمنج 15-dk2112ne - انتل® كور™ ...  28,499.00 جنيه‏   \n",
       "14  اتش بي Victus 16-d0007ne - انتل® كور™ i7-11800...  45,999.00 جنيه‏   \n",
       "15  ديل انسبيرون 5511 G15 - انتل® كور™ i7-11800H -...  42,999.00 جنيه‏   \n",
       "16  لينوفو جيمينج 3 15IAH7 - انتل® كور™ i7-12650H ...  39,799.00 جنيه‏   \n",
       "17  ام اس اي Vector GP76 - انتل® كور™ i7-12700H - ...  77,999.00 جنيه‏   \n",
       "18  اسوس TUF Gaming FX517ZE-HN050W - انتل® كور™ i7...  39,999.00 جنيه‏   \n",
       "19  اسوس TUF Gaming FX516PE-HN019W - انتل® كور™ i7...  35,999.00 جنيه‏   \n",
       "20  لينوفو جيمنج 3 - انتل® كور™ i5-12500H - رامات ...  32,999.00 جنيه‏   \n",
       "21  اتش بي Victus 16-d0008ne - انتل® كور™ i7-11800...  45,999.00 جنيه‏   \n",
       "22  اتش بي Victus 16-e0002ne - معالج AMD Ryzen™ 7-...  36,999.00 جنيه‏   \n",
       "23  اتش بي Victus 15-fa0087ne - انتل® كور™ i5-1250...  31,999.00 جنيه‏   \n",
       "24  اتش بي Victus 15-fa0088ne - انتل® كور™ i5-1250...  31,999.00 جنيه‏   \n",
       "25  اتش بي Victus 15-fa0089ne - انتل® كور™ i5-1250...  31,999.00 جنيه‏   \n",
       "26  اتش بي Victus 15-fb0031ne - معالج AMD Ryzen™ 7...  37,999.00 جنيه‏   \n",
       "27  اتش بي Victus 15-fb0032ne - معالج AMD Ryzen™ 7...  35,999.00 جنيه‏   \n",
       "28  اتش بي Victus 15-fb0033ne - معالج AMD Ryzen™ 7...  35,999.00 جنيه‏   \n",
       "29  اتش بي Victus 15-fb0034ne - معالج AMD Ryzen™ 7...  34,499.00 جنيه‏   \n",
       "30  اتش بي Victus 15-fb0035ne - معالج AMD Ryzen™ 5...  31,999.00 جنيه‏   \n",
       "31  اتش بي Victus 15-fb0036ne - معالج AMD Ryzen™ 5...  30,499.00 جنيه‏   \n",
       "32  اتش بي Victus 15-fb0037ne - معالج AMD Ryzen™ 5...  30,499.00 جنيه‏   \n",
       "33  اتش بي Victus 16-d1058ne - انتل® كور™i7 12700H...  49,999.00 جنيه‏   \n",
       "\n",
       "                                                 Link  \n",
       "0   https://2b.com.eg/ar/msi-gf63-thin-10sc-808xeg...  \n",
       "1   https://2b.com.eg/ar/dell-g5-5500-intelrcoretm...  \n",
       "2   https://2b.com.eg/ar/asus-rog-strix-g15-g513rm...  \n",
       "3   https://2b.com.eg/ar/lenovo-gaming-3-amd-ryzen...  \n",
       "4   https://2b.com.eg/ar/lenovo-gaming-3-16iah7-in...  \n",
       "5   https://2b.com.eg/ar/msi-gf63-intelr-coretm-i7...  \n",
       "6   https://2b.com.eg/ar/msi-pulse-gl66-intelr-cor...  \n",
       "7   https://2b.com.eg/ar/msi-gf63-thin10sc-090xeg-...  \n",
       "8   https://2b.com.eg/ar/hp-victus-16-d0030ne-inte...  \n",
       "9   https://2b.com.eg/ar/hp-victus-gaming-16-d1003...  \n",
       "10  https://2b.com.eg/ar/hp-victus-16-d0006ne-inte...  \n",
       "11  https://2b.com.eg/ar/lenovo-ideapad-gaming-3-1...  \n",
       "12  https://2b.com.eg/ar/lenovo-ideapad-1-15iau7-i...  \n",
       "13  https://2b.com.eg/ar/hp-pavilion-gaming-15-dk2...  \n",
       "14  https://2b.com.eg/ar/hp-victus-16-d0007ne-inte...  \n",
       "15  https://2b.com.eg/ar/dell-inspiron-5511-g15-in...  \n",
       "16  https://2b.com.eg/ar/lenovo-gaming-3-15iah7-in...  \n",
       "17  https://2b.com.eg/ar/msi-vector-gp76-intelr-co...  \n",
       "18  https://2b.com.eg/ar/asus-tuf-gaming-fx517ze-h...  \n",
       "19  https://2b.com.eg/ar/asus-tuf-gaming-fx516pe-h...  \n",
       "20  https://2b.com.eg/ar/lenovo-gaming-3-intelr-co...  \n",
       "21  https://2b.com.eg/ar/hp-victus-16-d0008ne-inte...  \n",
       "22  https://2b.com.eg/ar/hp-victus-16-e0002ne-amd-...  \n",
       "23  https://2b.com.eg/ar/hp-victus-15-fa0087ne-int...  \n",
       "24  https://2b.com.eg/ar/hp-victus-15-fa0088ne-int...  \n",
       "25  https://2b.com.eg/ar/hp-victus-15-fa0089ne-int...  \n",
       "26  https://2b.com.eg/ar/hp-victus-15-fb0031ne-amd...  \n",
       "27  https://2b.com.eg/ar/hp-victus-15-fb0032ne-amd...  \n",
       "28  https://2b.com.eg/ar/hp-victus-15-fb0033ne-amd...  \n",
       "29  https://2b.com.eg/ar/hp-victus-15-fb0034ne-amd...  \n",
       "30  https://2b.com.eg/ar/hp-victus-15-fb0035ne-amd...  \n",
       "31  https://2b.com.eg/ar/hp-victus-15-fb0036ne-amd...  \n",
       "32  https://2b.com.eg/ar/hp-victus-15-fb0037ne-amd...  \n",
       "33  https://2b.com.eg/ar/hp-victus-16-d1058ne-inte...  "
      ]
     },
     "execution_count": 9,
     "metadata": {},
     "output_type": "execute_result"
    }
   ],
   "source": [
    "phones"
   ]
  },
  {
   "cell_type": "code",
   "execution_count": 13,
   "metadata": {},
   "outputs": [],
   "source": [
    "phones.to_excel('2Blaptops.xlsx', sheet_name='2Blaptops', index=False)"
   ]
  }
 ],
 "metadata": {
  "kernelspec": {
   "display_name": "Python 3",
   "language": "python",
   "name": "python3"
  },
  "language_info": {
   "codemirror_mode": {
    "name": "ipython",
    "version": 3
   },
   "file_extension": ".py",
   "mimetype": "text/x-python",
   "name": "python",
   "nbconvert_exporter": "python",
   "pygments_lexer": "ipython3",
   "version": "3.10.4"
  },
  "orig_nbformat": 4
 },
 "nbformat": 4,
 "nbformat_minor": 2
}
